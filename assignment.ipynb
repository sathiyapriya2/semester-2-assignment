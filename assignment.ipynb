{
 "cells": [
  {
   "cell_type": "code",
   "execution_count": 25,
   "id": "b4d6b09c-916a-4b1e-8981-11bfba5fa5bd",
   "metadata": {},
   "outputs": [
    {
     "name": "stdout",
     "output_type": "stream",
     "text": [
      "Enter marks obtained in four subjects::\n"
     ]
    },
    {
     "name": "stdin",
     "output_type": "stream",
     "text": [
      " 56\n",
      " 90\n",
      " 87\n",
      " 77\n"
     ]
    },
    {
     "name": "stdout",
     "output_type": "stream",
     "text": [
      "\n",
      "The total marks is: \t 310.0 /500.00\n",
      "\n",
      "The average marks is: \t 62.0\n",
      "\n",
      "The percentage marks is: \t 62.0 %\n",
      "\n",
      "The grade is: \t D\n"
     ]
    }
   ],
   "source": [
    "print(\"Enter marks obtained in four subjects::\")\n",
    "subject_1=float(input())\n",
    "subject_2=float(input())\n",
    "subject_3=float(input())\n",
    "subject_4=float(input())\n",
    "total,average, percentage, grade=None, None, None, None\n",
    "total=subject_1+subject_2+subject_3+subject_4+\n",
    "average=total/5.0\n",
    "percentage=(total/500.0)*100\n",
    "if average>=90:\n",
    "    grade= 'A'\n",
    "elif average>=80 and average< 90:\n",
    "    grade= 'B'\n",
    "elif average>=70 and average< 80:\n",
    "    grade= 'C'\n",
    "elif average>=60 and average< 70:\n",
    "    grade= 'D'\n",
    "else:\n",
    "    grade= 'E'\n",
    "print(\"\\nThe total marks is: \\t\",total, \"/500.00\")\n",
    "print(\"\\nThe average marks is: \\t\",average)\n",
    "print(\"\\nThe percentage marks is: \\t\",percentage,\"%\")\n",
    "print(\"\\nThe grade is: \\t\",grade)"
   ]
  },
  {
   "cell_type": "code",
   "execution_count": null,
   "id": "f5e102ac-5f99-4d7d-b8e8-be94f9ec66bf",
   "metadata": {},
   "outputs": [],
   "source": []
  }
 ],
 "metadata": {
  "kernelspec": {
   "display_name": "Python 3 (ipykernel)",
   "language": "python",
   "name": "python3"
  },
  "language_info": {
   "codemirror_mode": {
    "name": "ipython",
    "version": 3
   },
   "file_extension": ".py",
   "mimetype": "text/x-python",
   "name": "python",
   "nbconvert_exporter": "python",
   "pygments_lexer": "ipython3",
   "version": "3.9.18"
  }
 },
 "nbformat": 4,
 "nbformat_minor": 5
}
